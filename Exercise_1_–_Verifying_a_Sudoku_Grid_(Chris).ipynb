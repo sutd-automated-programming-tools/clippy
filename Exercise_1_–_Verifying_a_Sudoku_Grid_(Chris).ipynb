{
 "cells": [
  {
   "cell_type": "markdown",
   "metadata": {
    "id": "Q80YLB3uhsbs"
   },
   "source": [
    "# Exercise 1: Verifying a Sudoku Grid\n",
    "\n",
    "The following exercises are to be solved without using any libraries or Numpy.\n",
    "\n",
    "## Part (a)\n",
    "\n",
    "Implement a function \"string_to_grid\" that:\n",
    "\n",
    "* takes a single Sudoku string as input (see e.g. \"test_case_1\")\n",
    "* converts it into a two-dimensional array (matrix) containing the digits of the Sudoku string.\n",
    "\n",
    "For example, \"test_case_1\" should be converted to:\n",
    "\n",
    "[['5', '3', '4', '6', '7', '8', '9', '1', '2'], ['6', '7', '2', '1', '9', '5', '3', '4', '8'], ... ]"
   ]
  },
  {
   "cell_type": "code",
   "execution_count": null,
   "metadata": {
    "colab": {
     "base_uri": "https://localhost:8080/"
    },
    "id": "2ZZlqONkhsbv",
    "outputId": "e7a43101-9e3f-43d6-a54f-998eb85d179a"
   },
   "outputs": [],
   "source": [
    "def string_to_grid(s):\n",
    "    # your solution here\n",
    "    return None # <-- replace the return value\n",
    "\n",
    "test_case_1 = \"\"\"534678912\n",
    "672195348\n",
    "198342567\n",
    "859761423\n",
    "426853791\n",
    "713924856\n",
    "961537284\n",
    "287419635\n",
    "345286179\n",
    "\"\"\"\n",
    "\n",
    "print(string_to_grid(test_case_1))"
   ]
  },
  {
   "cell_type": "raw",
   "metadata": {},
   "source": [
    "Feedback\n",
    "\n",
    "\n",
    "[debug] Guessed language: py\n",
    "[debug] Reading and parsing source file '/home/ismam/Desktop/work/clara-api-server/clusters/sudoku/part-a/c9.py'\n",
    "[debug] Reading and parsing source file '/home/ismam/Desktop/work/clara-api-server/clusters/sudoku/part-a/c2.py'\n",
    "[debug] Reading and parsing source file '/home/ismam/Desktop/work/clara-api-server/clusters/sudoku/part-a/c11.py'\n",
    "[debug] Reading and parsing source file '/home/ismam/Desktop/work/clara-api-server/clusters/sudoku/part-a/c6.py'\n",
    "[debug] Reading and parsing source file '/home/ismam/Desktop/work/clara-api-server/clusters/sudoku/part-a/c8.py'\n",
    "[debug] Reading and parsing source file '/home/ismam/Desktop/work/clara-api-server/clusters/sudoku/part-a/c5.py'\n",
    "[debug] Reading and parsing source file '/home/ismam/Desktop/work/clara-api-server/clusters/sudoku/part-a/c7.py'\n",
    "[debug] Reading and parsing source file '/home/ismam/Desktop/work/clara-api-server/clusters/sudoku/part-a/c12.py'\n",
    "[debug] Reading and parsing source file '/home/ismam/Desktop/work/clara-api-server/clusters/sudoku/part-a/c4.py'\n",
    "[debug] Reading and parsing source file '/home/ismam/Desktop/work/clara-api-server/clusters/sudoku/part-a/c1.py'\n",
    "[debug] Reading and parsing source file '/home/ismam/Desktop/work/clara-api-server/clusters/sudoku/part-a/c3.py'\n",
    "[debug] Reading and parsing source file '/home/ismam/Desktop/work/clara-api-server/clusters/sudoku/part-a/c10.py'\n",
    "[debug] Reading and parsing source file 'incorrect/incorrect.py'\n",
    "Error: struct\n",
    "\n",
    "[debug] Function 'check_sudoku_dimensions' not found in P\n",
    "[debug] Function 'check_sudoku' not found in P\n",
    "[debug] Function 'check_sudoku_cols' not found in P\n",
    "[debug] Function 'check_sudoku_subgrids' not found in P\n",
    "[debug] Function 'check_sudoku_cols' not found in P\n",
    "[debug] Function 'check_sudoku_subgrids' not found in P\n",
    "[debug] Function 'check_sudoku_dimensions' not found in P\n",
    "[debug] Function 'check_sudoku_rows' not found in P\n",
    "[debug] Function 'check_sudoku_rows' not found in P\n",
    "[debug] Function 'check_sudoku' not found in P\n"
   ]
  },
  {
   "cell_type": "code",
   "execution_count": 22,
   "metadata": {
    "id": "L0BCmHItjkyD"
   },
   "outputs": [],
   "source": [
    "assert string_to_grid(test_case_1) == [['5', '3', '4', '6', '7', '8', '9', '1', '2'], ['6', '7', '2', '1', '9', '5', '3', '4', '8'], ['1', '9', '8', '3', '4', '2', '5', '6', '7'], ['8', '5', '9', '7', '6', '1', '4', '2', '3'], ['4', '2', '6', '8', '5', '3', '7', '9', '1'], ['7', '1', '3', '9', '2', '4', '8', '5', '6'], ['9', '6', '1', '5', '3', '7', '2', '8', '4'], ['2', '8', '7', '4', '1', '9', '6', '3', '5'], ['3', '4', '5', '2', '8', '6', '1', '7', '9']]"
   ]
  },
  {
   "cell_type": "markdown",
   "metadata": {
    "id": "lfXAHa5rhsbx"
   },
   "source": [
    "## Part (b)\n",
    "\n",
    "Implement a function \"check_sudoku_dimensions\" that:\n",
    "\n",
    "* takes as input a two-dimensional array \"grid\"\n",
    "* returns True if it is a square of size 9x9; False otherwise\n",
    "\n",
    "*Hint: Make sure you check the size of each row and not just one of the rows.*"
   ]
  },
  {
   "cell_type": "code",
   "execution_count": 23,
   "metadata": {
    "colab": {
     "base_uri": "https://localhost:8080/"
    },
    "id": "yHktmJO9hsbx",
    "outputId": "0a0b1106-8710-48f5-8943-97fae143e76e"
   },
   "outputs": [
    {
     "name": "stdout",
     "output_type": "stream",
     "text": [
      "None\n"
     ]
    }
   ],
   "source": [
    "def check_sudoku_dimensions(grid):\n",
    "    # your solution here\n",
    "    return None # <-- replace the return value\n",
    "\n",
    "print(check_sudoku_dimensions(string_to_grid(test_case_1)))\n"
   ]
  },
  {
   "cell_type": "code",
   "execution_count": 25,
   "metadata": {
    "id": "0KPKwCjGknWl"
   },
   "outputs": [],
   "source": [
    "grid1 = [['5', '3', '4', '6', '7', '8', '9', '1', '2'], ['6', '7', '2', '1', '9', '5', '3', '4', '8'], ['1', '9', '8', '3', '4', '2', '5', '6', '7'], ['8', '5', '9', '7', '6', '1', '4', '2', '3'], ['4', '2', '6', '8', '5', '3', '7', '9', '1'], ['7', '1', '3', '9', '2', '4', '8', '5', '6'], ['9', '6', '1', '5', '3', '7', '2', '8', '4'], ['2', '8', '7', '4', '1', '9', '6', '3', '5'], ['3', '4', '5', '2', '8', '6', '1', '7', '9']]\n",
    "assert check_sudoku_dimensions(grid1)\n",
    "\n",
    "# number of rows is only 8\n",
    "grid2 = [['5', '3', '4', '6', '7', '8', '9', '1', '2'], ['6', '7', '2', '1', '9', '5', '3', '4', '8'], ['1', '9', '8', '3', '4', '2', '5', '6', '7'], ['8', '5', '9', '7', '6', '1', '4', '2', '3'], ['4', '2', '6', '8', '5', '3', '7', '9', '1'], ['7', '1', '3', '9', '2', '4', '8', '5', '6'], ['9', '6', '1', '5', '3', '7', '2', '8', '4'], ['2', '8', '7', '4', '1', '9', '6', '3', '5']]\n",
    "assert not check_sudoku_dimensions(grid2)\n",
    "\n",
    "# second row only has 8 columns\n",
    "grid3 = [['5', '3', '4', '6', '7', '8', '9', '1', '2'], ['7', '2', '1', '9', '5', '3', '4', '8'], ['1', '9', '8', '3', '4', '2', '5', '6', '7'], ['8', '5', '9', '7', '6', '1', '4', '2', '3'], ['4', '2', '6', '8', '5', '3', '7', '9', '1'], ['7', '1', '3', '9', '2', '4', '8', '5', '6'], ['9', '6', '1', '5', '3', '7', '2', '8', '4'], ['2', '8', '7', '4', '1', '9', '6', '3', '5'], ['3', '4', '5', '2', '8', '6', '1', '7', '9']]\n",
    "assert not check_sudoku_dimensions(grid3)"
   ]
  },
  {
   "cell_type": "markdown",
   "metadata": {
    "id": "C3OFv5MKhsby"
   },
   "source": [
    "## Part (c)\n",
    "\n",
    "Implement a function \"check_sudoku_rows\" that:\n",
    "\n",
    "* takes as input a two-dimensional array \"grid\"\n",
    "* returns True as output if every row contains each digit 1..9 exactly once; False otherwise"
   ]
  },
  {
   "cell_type": "code",
   "execution_count": 26,
   "metadata": {
    "colab": {
     "base_uri": "https://localhost:8080/"
    },
    "id": "4mmyNS89hsbz",
    "outputId": "f240944f-1cbd-4895-c706-706b3004d1c0"
   },
   "outputs": [
    {
     "name": "stdout",
     "output_type": "stream",
     "text": [
      "None\n"
     ]
    }
   ],
   "source": [
    "def check_sudoku_rows(grid):\n",
    "    # your solution here\n",
    "    return None # <-- replace the return value\n",
    "\n",
    "print(check_sudoku_rows(string_to_grid(test_case_1)))\n"
   ]
  },
  {
   "cell_type": "code",
   "execution_count": 28,
   "metadata": {
    "id": "YpVZvEfWwnh2"
   },
   "outputs": [],
   "source": [
    "grid1 = [['5', '3', '4', '6', '7', '8', '9', '1', '2'], ['6', '7', '2', '1', '9', '5', '3', '4', '8'], ['1', '9', '8', '3', '4', '2', '5', '6', '7'], ['8', '5', '9', '7', '6', '1', '4', '2', '3'], ['4', '2', '6', '8', '5', '3', '7', '9', '1'], ['7', '1', '3', '9', '2', '4', '8', '5', '6'], ['9', '6', '1', '5', '3', '7', '2', '8', '4'], ['2', '8', '7', '4', '1', '9', '6', '3', '5'], ['3', '4', '5', '2', '8', '6', '1', '7', '9']]\n",
    "assert check_sudoku_rows(grid1)\n",
    "\n",
    "# there is a zero digit in the first row\n",
    "grid2 = [['5', '0', '4', '6', '7', '8', '9', '1', '2'], ['6', '7', '2', '1', '9', '5', '3', '4', '8'], ['1', '9', '8', '3', '4', '2', '5', '6', '7'], ['8', '5', '9', '7', '6', '1', '4', '2', '3'], ['4', '2', '6', '8', '5', '3', '7', '9', '1'], ['7', '1', '3', '9', '2', '4', '8', '5', '6'], ['9', '6', '1', '5', '3', '7', '2', '8', '4'], ['2', '8', '7', '4', '1', '9', '6', '3', '5'], ['3', '4', '5', '2', '8', '6', '1', '7', '9']]\n",
    "assert not check_sudoku_rows(grid2)\n",
    "\n",
    "# there is a double 7 in the second row\n",
    "grid3 = [['5', '3', '4', '6', '7', '8', '9', '1', '2'], ['6', '7', '7', '1', '9', '5', '3', '4', '8'], ['1', '9', '8', '3', '4', '2', '5', '6', '7'], ['8', '5', '9', '7', '6', '1', '4', '2', '3'], ['4', '2', '6', '8', '5', '3', '7', '9', '1'], ['7', '1', '3', '9', '2', '4', '8', '5', '6'], ['9', '6', '1', '5', '3', '7', '2', '8', '4'], ['2', '8', '7', '4', '1', '9', '6', '3', '5'], ['3', '4', '5', '2', '8', '6', '1', '7', '9']]\n",
    "assert not check_sudoku_rows(grid3)"
   ]
  },
  {
   "cell_type": "markdown",
   "metadata": {
    "id": "RZ9f-OhThsbz"
   },
   "source": [
    "## Part (d)\n",
    "\n",
    "Implement a function called \"check_sudoku_cols\" that:\n",
    "\n",
    "* takes as input a two-dimensional array \"grid\"\n",
    "* returns True as output if every column contains each digit 1..9 exactly once; False otherwise"
   ]
  },
  {
   "cell_type": "code",
   "execution_count": 29,
   "metadata": {
    "colab": {
     "base_uri": "https://localhost:8080/"
    },
    "id": "CpjatUMMhsb0",
    "outputId": "4eb63760-30fa-4c7c-8ff9-2affb34a5770"
   },
   "outputs": [
    {
     "name": "stdout",
     "output_type": "stream",
     "text": [
      "None\n"
     ]
    }
   ],
   "source": [
    "def check_sudoku_cols(grid):\n",
    "    # your solution here\n",
    "    return None # <-- replace the return value\n",
    "\n",
    "print(check_sudoku_cols(string_to_grid(test_case_1)))\n"
   ]
  },
  {
   "cell_type": "code",
   "execution_count": 31,
   "metadata": {
    "id": "vYIntOCMy3Or"
   },
   "outputs": [],
   "source": [
    "grid1 = [['5', '3', '4', '6', '7', '8', '9', '1', '2'], ['6', '7', '2', '1', '9', '5', '3', '4', '8'], ['1', '9', '8', '3', '4', '2', '5', '6', '7'], ['8', '5', '9', '7', '6', '1', '4', '2', '3'], ['4', '2', '6', '8', '5', '3', '7', '9', '1'], ['7', '1', '3', '9', '2', '4', '8', '5', '6'], ['9', '6', '1', '5', '3', '7', '2', '8', '4'], ['2', '8', '7', '4', '1', '9', '6', '3', '5'], ['3', '4', '5', '2', '8', '6', '1', '7', '9']]\n",
    "assert check_sudoku_cols(grid1)\n",
    "\n",
    "# there is a zero digit in the second col\n",
    "grid2 = [['5', '0', '4', '6', '7', '8', '9', '1', '2'], ['6', '7', '2', '1', '9', '5', '3', '4', '8'], ['1', '9', '8', '3', '4', '2', '5', '6', '7'], ['8', '5', '9', '7', '6', '1', '4', '2', '3'], ['4', '2', '6', '8', '5', '3', '7', '9', '1'], ['7', '1', '3', '9', '2', '4', '8', '5', '6'], ['9', '6', '1', '5', '3', '7', '2', '8', '4'], ['2', '8', '7', '4', '1', '9', '6', '3', '5'], ['3', '4', '5', '2', '8', '6', '1', '7', '9']]\n",
    "assert not check_sudoku_cols(grid2)\n",
    "\n",
    "# there is a double 7 in the third col\n",
    "grid3 = [['5', '3', '4', '6', '7', '8', '9', '1', '2'], ['6', '7', '2', '1', '9', '5', '3', '4', '8'], ['1', '9', '7', '3', '4', '2', '5', '6', '7'], ['8', '5', '9', '7', '6', '1', '4', '2', '3'], ['4', '2', '6', '8', '5', '3', '7', '9', '1'], ['7', '1', '3', '9', '2', '4', '8', '5', '6'], ['9', '6', '1', '5', '3', '7', '2', '8', '4'], ['2', '8', '7', '4', '1', '9', '6', '3', '5'], ['3', '4', '5', '2', '8', '6', '1', '7', '9']]\n",
    "assert not check_sudoku_cols(grid3)"
   ]
  },
  {
   "cell_type": "markdown",
   "metadata": {
    "id": "g6XBHUu5hsb0"
   },
   "source": [
    "## Part (e)\n",
    "\n",
    "Implement a function called \"check_sudoku_subgrids\" that:\n",
    "\n",
    "* takes as input a two-dimensional grid \"grid\"\n",
    "* returns True as output if every 3x3 subgrid contains each digit 1..9 exactly once; False otherwise"
   ]
  },
  {
   "cell_type": "code",
   "execution_count": 32,
   "metadata": {
    "colab": {
     "base_uri": "https://localhost:8080/"
    },
    "id": "p6gvMR72hsb0",
    "outputId": "7bc9cdfd-d437-452b-9296-72015a0a2dc4"
   },
   "outputs": [
    {
     "name": "stdout",
     "output_type": "stream",
     "text": [
      "None\n"
     ]
    }
   ],
   "source": [
    "def check_sudoku_subgrids(grid):\n",
    "    # your solution here\n",
    "    return None # <-- replace the return value\n",
    "\n",
    "print(check_sudoku_subgrids(string_to_grid(test_case_1)))"
   ]
  },
  {
   "cell_type": "code",
   "execution_count": 34,
   "metadata": {
    "id": "QS5kw_a41h3A"
   },
   "outputs": [],
   "source": [
    "grid1 = [['5', '3', '4', '6', '7', '8', '9', '1', '2'], ['6', '7', '2', '1', '9', '5', '3', '4', '8'], ['1', '9', '8', '3', '4', '2', '5', '6', '7'], ['8', '5', '9', '7', '6', '1', '4', '2', '3'], ['4', '2', '6', '8', '5', '3', '7', '9', '1'], ['7', '1', '3', '9', '2', '4', '8', '5', '6'], ['9', '6', '1', '5', '3', '7', '2', '8', '4'], ['2', '8', '7', '4', '1', '9', '6', '3', '5'], ['3', '4', '5', '2', '8', '6', '1', '7', '9']]\n",
    "assert check_sudoku_subgrids(grid1)\n",
    "\n",
    "# there is a zero digit in the first subgrid\n",
    "grid2 = [['5', '0', '4', '6', '7', '8', '9', '1', '2'], ['6', '7', '2', '1', '9', '5', '3', '4', '8'], ['1', '9', '8', '3', '4', '2', '5', '6', '7'], ['8', '5', '9', '7', '6', '1', '4', '2', '3'], ['4', '2', '6', '8', '5', '3', '7', '9', '1'], ['7', '1', '3', '9', '2', '4', '8', '5', '6'], ['9', '6', '1', '5', '3', '7', '2', '8', '4'], ['2', '8', '7', '4', '1', '9', '6', '3', '5'], ['3', '4', '5', '2', '8', '6', '1', '7', '9']]\n",
    "assert not check_sudoku_subgrids(grid2)\n",
    "\n",
    "# there is a double 7 in the centre subgrid\n",
    "grid3 = [['5', '3', '4', '6', '7', '8', '9', '1', '2'], ['6', '7', '2', '1', '9', '5', '3', '4', '8'], ['1', '9', '8', '3', '4', '2', '5', '6', '7'], ['8', '5', '9', '7', '6', '1', '4', '2', '3'], ['4', '2', '6', '8', '7', '3', '7', '9', '1'], ['7', '1', '3', '9', '2', '4', '8', '5', '6'], ['9', '6', '1', '5', '3', '7', '2', '8', '4'], ['2', '8', '7', '4', '1', '9', '6', '3', '5'], ['3', '4', '5', '2', '8', '6', '1', '7', '9']]\n",
    "assert not check_sudoku_subgrids(grid3)"
   ]
  },
  {
   "cell_type": "markdown",
   "metadata": {
    "id": "fAtQDwC2hsb1"
   },
   "source": [
    "## Part (f)\n",
    "\n",
    "Implement a function called \"check_sudoku\" that:\n",
    "\n",
    "* takes as input a two-dimensional grid in the form a single string\n",
    "* returns True if all of the above functions return True; False otherwise"
   ]
  },
  {
   "cell_type": "code",
   "execution_count": 35,
   "metadata": {
    "colab": {
     "base_uri": "https://localhost:8080/"
    },
    "id": "zc_QYWZV1p9n",
    "outputId": "972a7078-1ed1-49a4-d9ed-572887a2de6e"
   },
   "outputs": [
    {
     "name": "stdout",
     "output_type": "stream",
     "text": [
      "None\n"
     ]
    }
   ],
   "source": [
    "def string_to_grid(s):\n",
    "    # your solution here\n",
    "    return None # <-- replace the return value\n",
    "\n",
    "def check_sudoku_dimensions(grid):\n",
    "    # your solution here\n",
    "    return None # <-- replace the return value\n",
    "\n",
    "def check_sudoku_rows(grid):\n",
    "    # your solution here\n",
    "    return None # <-- replace the return value\n",
    "\n",
    "def check_sudoku_cols(grid):\n",
    "    # your solution here\n",
    "    return None # <-- replace the return value\n",
    "\n",
    "def check_sudoku_subgrids(grid):\n",
    "    # your solution here\n",
    "    return None # <-- replace the return value\n",
    "\n",
    "def check_sudoku(s):\n",
    "    # your solution here\n",
    "    return None # <-- replace the return value\n",
    "\n",
    "test_case_1 = \"\"\"534678912\n",
    "672195348\n",
    "198342567\n",
    "859761423\n",
    "426853791\n",
    "713924856\n",
    "961537284\n",
    "287419635\n",
    "345286179\n",
    "\"\"\"\n",
    "\n",
    "print(check_sudoku(test_case_1))"
   ]
  },
  {
   "cell_type": "raw",
   "metadata": {},
   "source": [
    "Feedback\n",
    "\n",
    "\n",
    "[debug] Guessed language: py\n",
    "[debug] Reading and parsing source file '/home/ismam/Desktop/work/clara-api-server/clusters/sudoku/part-f/c9.py'\n",
    "[debug] Reading and parsing source file '/home/ismam/Desktop/work/clara-api-server/clusters/sudoku/part-f/c2.py'\n",
    "[debug] Reading and parsing source file '/home/ismam/Desktop/work/clara-api-server/clusters/sudoku/part-f/c11.py'\n",
    "[debug] Reading and parsing source file '/home/ismam/Desktop/work/clara-api-server/clusters/sudoku/part-f/c6.py'\n",
    "[debug] Reading and parsing source file '/home/ismam/Desktop/work/clara-api-server/clusters/sudoku/part-f/c8.py'\n",
    "[debug] Reading and parsing source file '/home/ismam/Desktop/work/clara-api-server/clusters/sudoku/part-f/c5.py'\n",
    "[debug] Reading and parsing source file '/home/ismam/Desktop/work/clara-api-server/clusters/sudoku/part-f/c7.py'\n",
    "[debug] Reading and parsing source file '/home/ismam/Desktop/work/clara-api-server/clusters/sudoku/part-f/c12.py'\n",
    "[debug] Reading and parsing source file '/home/ismam/Desktop/work/clara-api-server/clusters/sudoku/part-f/c4.py'\n",
    "[debug] Reading and parsing source file '/home/ismam/Desktop/work/clara-api-server/clusters/sudoku/part-f/c1.py'\n",
    "[debug] Reading and parsing source file '/home/ismam/Desktop/work/clara-api-server/clusters/sudoku/part-f/c3.py'\n",
    "[debug] Reading and parsing source file '/home/ismam/Desktop/work/clara-api-server/clusters/sudoku/part-f/c10.py'\n",
    "[debug] Reading and parsing source file 'incorrect/incorrect.py'\n",
    "Error: struct\n",
    "\n",
    "[debug] Function 'check_sudoku_dimensions' not found in P\n",
    "[debug] Function 'check_sudoku' not found in P\n",
    "[debug] Function 'check_sudoku_cols' not found in P\n",
    "[debug] Function 'check_sudoku_subgrids' not found in P\n",
    "[debug] Function 'check_sudoku_cols' not found in P\n",
    "[debug] Function 'check_sudoku_subgrids' not found in P\n",
    "[debug] Function 'check_sudoku_rows' not found in P\n",
    "[debug] Function 'check_sudoku_rows' not found in P\n",
    "[debug] Function 'check_sudoku_dimensions' not found in P\n",
    "[debug] Function 'check_sudoku' not found in P\n"
   ]
  },
  {
   "cell_type": "code",
   "execution_count": 37,
   "metadata": {
    "id": "GKt_MOu6hsb2"
   },
   "outputs": [],
   "source": [
    "grid1 = \"\"\"534678912\n",
    "672195348\n",
    "198342567\n",
    "859761423\n",
    "426853791\n",
    "713924856\n",
    "961537284\n",
    "287419635\n",
    "345286179\n",
    "\"\"\"\n",
    "\n",
    "assert check_sudoku(grid1)\n",
    "\n",
    "# number of rows only 8\n",
    "grid2 = \"\"\"534678912\n",
    "672195348\n",
    "198342567\n",
    "859761423\n",
    "426853791\n",
    "713924856\n",
    "961537284\n",
    "287419635\n",
    "\"\"\"\n",
    "assert not check_sudoku(grid2)\n",
    "\n",
    "# second row only 8 columns\n",
    "grid3 = \"\"\"534678912\n",
    "67219534\n",
    "198342567\n",
    "859761423\n",
    "426853791\n",
    "713924856\n",
    "961537284\n",
    "287419635\n",
    "345286179\n",
    "\"\"\"\n",
    "assert not check_sudoku(grid3)\n",
    "\n",
    "# there is a zero digit in the first row\n",
    "grid4 = \"\"\"504678912\n",
    "672195348\n",
    "198342567\n",
    "859761423\n",
    "426853791\n",
    "713924856\n",
    "961537284\n",
    "287419635\n",
    "345286179\n",
    "\"\"\"\n",
    "assert not check_sudoku(grid4)\n",
    "\n",
    "# there is a double 7 in the second row\n",
    "grid5 = \"\"\"534678912\n",
    "677195348\n",
    "198342567\n",
    "859761423\n",
    "426853791\n",
    "713924856\n",
    "961537284\n",
    "287419635\n",
    "345286179\n",
    "\"\"\"\n",
    "assert not check_sudoku(grid5)\n",
    "\n",
    "# there is a double 7 in the third col\n",
    "grid6 = \"\"\"534678912\n",
    "677195348\n",
    "197342567\n",
    "859761423\n",
    "426853791\n",
    "713924856\n",
    "961537284\n",
    "287419635\n",
    "345286179\n",
    "\"\"\"\n",
    "assert not check_sudoku(grid6)\n",
    "\n",
    "# there is a double 7 in the centre subgrid\n",
    "grid7 = \"\"\"\n",
    "534678912\n",
    "677195348\n",
    "198342567\n",
    "859761423\n",
    "426873791\n",
    "713924856\n",
    "961537284\n",
    "287419635\n",
    "345286179\n",
    "\"\"\"\n",
    "assert not check_sudoku(grid7)"
   ]
  }
 ],
 "metadata": {
  "colab": {
   "name": "Exercise 1 – Verifying a Sudoku Grid (Chris).ipynb",
   "provenance": []
  },
  "kernelspec": {
   "display_name": "Python 3 (ipykernel)",
   "language": "python",
   "name": "python3"
  },
  "language_info": {
   "codemirror_mode": {
    "name": "ipython",
    "version": 3
   },
   "file_extension": ".py",
   "mimetype": "text/x-python",
   "name": "python",
   "nbconvert_exporter": "python",
   "pygments_lexer": "ipython3",
   "version": "3.9.5"
  }
 },
 "nbformat": 4,
 "nbformat_minor": 1
}
