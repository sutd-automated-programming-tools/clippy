{
 "cells": [
  {
   "cell_type": "code",
   "execution_count": null,
   "id": "187129a1",
   "metadata": {},
   "outputs": [],
   "source": [
    "# This is an example snippet!\n",
    "# To create your own, add a new snippet block to the\n",
    "# snippets.json file in your jupyter nbextensions directory:\n",
    "# /nbextensions/snippets/snippets.json\n",
    "import this"
   ]
  },
  {
   "cell_type": "code",
   "execution_count": 3,
   "id": "5a2a8cbf",
   "metadata": {},
   "outputs": [],
   "source": [
    "def computeDeriv(poly):\n",
    "  new = []\n",
    "  for i in range(1,len(poly)):\n",
    "    new.append(\n",
    "        float(i*poly[i]))\n",
    "  if new==[]:\n",
    "    return 0.0\n",
    "  return new"
   ]
  },
  {
   "cell_type": "markdown",
   "id": "77dd2131",
   "metadata": {},
   "source": [
    "* * Change 'return (0.0 if (new == []) else new)' to 'return ([0.0] if (new == []) else new)' *after* the 'for' loop starting at line 4 (cost=1.0)\n"
   ]
  },
  {
   "cell_type": "markdown",
   "id": "2c615f41",
   "metadata": {},
   "source": [
    "testcases\n",
    "\n",
    "\n",
    "**name:computeDeriv**\n",
    "\n",
    "**[[2,4,5],[4.5,4]]**"
   ]
  },
  {
   "cell_type": "code",
   "execution_count": null,
   "id": "06f65537",
   "metadata": {},
   "outputs": [],
   "source": []
  },
  {
   "cell_type": "code",
   "execution_count": null,
   "id": "7e8f0180",
   "metadata": {},
   "outputs": [],
   "source": []
  }
 ],
 "metadata": {
  "kernelspec": {
   "display_name": "Python 3 (ipykernel)",
   "language": "python",
   "name": "python3"
  },
  "language_info": {
   "codemirror_mode": {
    "name": "ipython",
    "version": 3
   },
   "file_extension": ".py",
   "mimetype": "text/x-python",
   "name": "python",
   "nbconvert_exporter": "python",
   "pygments_lexer": "ipython3",
   "version": "3.9.5"
  },
  "varInspector": {
   "cols": {
    "lenName": 16,
    "lenType": 16,
    "lenVar": 40
   },
   "kernels_config": {
    "python": {
     "delete_cmd_postfix": "",
     "delete_cmd_prefix": "del ",
     "library": "var_list.py",
     "varRefreshCmd": "print(var_dic_list())"
    },
    "r": {
     "delete_cmd_postfix": ") ",
     "delete_cmd_prefix": "rm(",
     "library": "var_list.r",
     "varRefreshCmd": "cat(var_dic_list()) "
    }
   },
   "position": {
    "height": "144.716px",
    "left": "789.943px",
    "right": "20px",
    "top": "398.969px",
    "width": "350px"
   },
   "types_to_exclude": [
    "module",
    "function",
    "builtin_function_or_method",
    "instance",
    "_Feature"
   ],
   "window_display": false
  }
 },
 "nbformat": 4,
 "nbformat_minor": 5
}
